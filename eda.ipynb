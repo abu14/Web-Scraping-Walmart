{
 "cells": [
  {
   "cell_type": "code",
   "execution_count": 1,
   "metadata": {},
   "outputs": [],
   "source": [
    "# load libraries\n",
    "import pandas as pd \n",
    "import numpy as np "
   ]
  },
  {
   "cell_type": "code",
   "execution_count": 4,
   "metadata": {},
   "outputs": [
    {
     "data": {
      "text/html": [
       "<div>\n",
       "<style scoped>\n",
       "    .dataframe tbody tr th:only-of-type {\n",
       "        vertical-align: middle;\n",
       "    }\n",
       "\n",
       "    .dataframe tbody tr th {\n",
       "        vertical-align: top;\n",
       "    }\n",
       "\n",
       "    .dataframe thead th {\n",
       "        text-align: right;\n",
       "    }\n",
       "</style>\n",
       "<table border=\"1\" class=\"dataframe\">\n",
       "  <thead>\n",
       "    <tr style=\"text-align: right;\">\n",
       "      <th></th>\n",
       "      <th>price</th>\n",
       "      <th>review_count</th>\n",
       "      <th>item_id</th>\n",
       "      <th>avg_rating</th>\n",
       "      <th>product_name</th>\n",
       "      <th>brand</th>\n",
       "      <th>availability</th>\n",
       "      <th>image_url</th>\n",
       "      <th>short_description</th>\n",
       "    </tr>\n",
       "  </thead>\n",
       "  <tbody>\n",
       "    <tr>\n",
       "      <th>0</th>\n",
       "      <td>199.99</td>\n",
       "      <td>55</td>\n",
       "      <td>5465289649</td>\n",
       "      <td>3.7</td>\n",
       "      <td>LG 27\" Monitor Full HD IPS MyView Pink Smart M...</td>\n",
       "      <td>LG</td>\n",
       "      <td>IN_STOCK</td>\n",
       "      <td>https://i5.walmartimages.com/seo/LG-27-Monitor...</td>\n",
       "      <td>The LG MyView Smart Monitor is designed for mu...</td>\n",
       "    </tr>\n",
       "    <tr>\n",
       "      <th>1</th>\n",
       "      <td>188.00</td>\n",
       "      <td>2504</td>\n",
       "      <td>406688031</td>\n",
       "      <td>4.5</td>\n",
       "      <td>LG 32\" Ultra-Gear QHD (2560 x 1440) Gaming Mon...</td>\n",
       "      <td>LG</td>\n",
       "      <td>IN_STOCK</td>\n",
       "      <td>https://i5.walmartimages.com/seo/LG-32-Ultra-G...</td>\n",
       "      <td>Gaming Innovation Beyond Boundaries - The pinn...</td>\n",
       "    </tr>\n",
       "    <tr>\n",
       "      <th>2</th>\n",
       "      <td>97.00</td>\n",
       "      <td>1183</td>\n",
       "      <td>742741064</td>\n",
       "      <td>4.4</td>\n",
       "      <td>LG 27\" FHD IPS 3-Side Borderless Monitor with ...</td>\n",
       "      <td>LG</td>\n",
       "      <td>IN_STOCK</td>\n",
       "      <td>https://i5.walmartimages.com/seo/LG-27-FHD-IPS...</td>\n",
       "      <td>The LG 27” FHD IPS 3-Side Borderless Office Mo...</td>\n",
       "    </tr>\n",
       "    <tr>\n",
       "      <th>3</th>\n",
       "      <td>199.99</td>\n",
       "      <td>55</td>\n",
       "      <td>5593212526</td>\n",
       "      <td>3.7</td>\n",
       "      <td>LG 27\" Monitor Full HD IPS MyView Green Smart ...</td>\n",
       "      <td>LG</td>\n",
       "      <td>IN_STOCK</td>\n",
       "      <td>https://i5.walmartimages.com/seo/LG-27-Monitor...</td>\n",
       "      <td>The LG MyView Smart Monitor is designed for mu...</td>\n",
       "    </tr>\n",
       "    <tr>\n",
       "      <th>4</th>\n",
       "      <td>97.00</td>\n",
       "      <td>1183</td>\n",
       "      <td>742741064</td>\n",
       "      <td>4.4</td>\n",
       "      <td>LG 27\" FHD IPS 3-Side Borderless Monitor with ...</td>\n",
       "      <td>LG</td>\n",
       "      <td>IN_STOCK</td>\n",
       "      <td>https://i5.walmartimages.com/seo/LG-27-FHD-IPS...</td>\n",
       "      <td>The LG 27” FHD IPS 3-Side Borderless Office Mo...</td>\n",
       "    </tr>\n",
       "  </tbody>\n",
       "</table>\n",
       "</div>"
      ],
      "text/plain": [
       "    price  review_count     item_id  avg_rating  \\\n",
       "0  199.99            55  5465289649         3.7   \n",
       "1  188.00          2504   406688031         4.5   \n",
       "2   97.00          1183   742741064         4.4   \n",
       "3  199.99            55  5593212526         3.7   \n",
       "4   97.00          1183   742741064         4.4   \n",
       "\n",
       "                                        product_name brand availability  \\\n",
       "0  LG 27\" Monitor Full HD IPS MyView Pink Smart M...    LG     IN_STOCK   \n",
       "1  LG 32\" Ultra-Gear QHD (2560 x 1440) Gaming Mon...    LG     IN_STOCK   \n",
       "2  LG 27\" FHD IPS 3-Side Borderless Monitor with ...    LG     IN_STOCK   \n",
       "3  LG 27\" Monitor Full HD IPS MyView Green Smart ...    LG     IN_STOCK   \n",
       "4  LG 27\" FHD IPS 3-Side Borderless Monitor with ...    LG     IN_STOCK   \n",
       "\n",
       "                                           image_url  \\\n",
       "0  https://i5.walmartimages.com/seo/LG-27-Monitor...   \n",
       "1  https://i5.walmartimages.com/seo/LG-32-Ultra-G...   \n",
       "2  https://i5.walmartimages.com/seo/LG-27-FHD-IPS...   \n",
       "3  https://i5.walmartimages.com/seo/LG-27-Monitor...   \n",
       "4  https://i5.walmartimages.com/seo/LG-27-FHD-IPS...   \n",
       "\n",
       "                                   short_description  \n",
       "0  The LG MyView Smart Monitor is designed for mu...  \n",
       "1  Gaming Innovation Beyond Boundaries - The pinn...  \n",
       "2  The LG 27” FHD IPS 3-Side Borderless Office Mo...  \n",
       "3  The LG MyView Smart Monitor is designed for mu...  \n",
       "4  The LG 27” FHD IPS 3-Side Borderless Office Mo...  "
      ]
     },
     "execution_count": 4,
     "metadata": {},
     "output_type": "execute_result"
    }
   ],
   "source": [
    "df = pd.read_json('product_info_v2.jsonl',lines=True)\n",
    "df.head()"
   ]
  },
  {
   "cell_type": "code",
   "execution_count": 5,
   "metadata": {},
   "outputs": [
    {
     "name": "stdout",
     "output_type": "stream",
     "text": [
      "<class 'pandas.core.frame.DataFrame'>\n",
      "RangeIndex: 209 entries, 0 to 208\n",
      "Data columns (total 9 columns):\n",
      " #   Column             Non-Null Count  Dtype  \n",
      "---  ------             --------------  -----  \n",
      " 0   price              209 non-null    float64\n",
      " 1   review_count       209 non-null    int64  \n",
      " 2   item_id            209 non-null    int64  \n",
      " 3   avg_rating         209 non-null    float64\n",
      " 4   product_name       209 non-null    object \n",
      " 5   brand              209 non-null    object \n",
      " 6   availability       209 non-null    object \n",
      " 7   image_url          209 non-null    object \n",
      " 8   short_description  209 non-null    object \n",
      "dtypes: float64(2), int64(2), object(5)\n",
      "memory usage: 14.8+ KB\n"
     ]
    }
   ],
   "source": [
    "df.info()"
   ]
  },
  {
   "cell_type": "code",
   "execution_count": 6,
   "metadata": {},
   "outputs": [
    {
     "data": {
      "text/plain": [
       "product_name\n",
       "LG 27\" Monitor Full HD IPS MyView Pink Smart Monitor with webOS and Built-in Speakers, Model 27SR50F-P                          10\n",
       "LG 32\" Ultra-Gear QHD (2560 x 1440) Gaming Monitor, 165Hz, 1ms, Black 32GN600-B.Aus, New                                        10\n",
       "Logitech ERGO K860 Split Bluetooth Ergonomic Keyboard, Black                                                                    10\n",
       "Logitech Silent Wireless Mouse, 2.4 GHz with USB Receiver, 1000 DPI Optical Tracking, Black                                     10\n",
       "Logitech Lift Vertical Ergonomic Wireless Computer Mice                                                                         10\n",
       "LG 27\" FHD IPS 3-Side Borderless Monitor with Anti-Glare & AMD FreeSync™ (1920 x 1080) - 27MP40W-B                              10\n",
       "LG 27\" Monitor Full HD IPS MyView Green Smart Monitor with webOS and Built-in Speakers, Model 27SR50F-G                         10\n",
       "Acer Chromebook 315 15.6 inch Laptop Intel Processor N4500 4GB RAM 64GB eMMC Pure Silver, ChromeOS                               8\n",
       "Bose QuietComfort Ultra Headphones, Bluetooth Over Ear Noise Cancelling Headphones, Black                                        8\n",
       "Samsung Galaxy Tab S9 FE+ 12.4\" Tablet, 128GB, Android 13, Gray                                                                  8\n",
       "Samsung Galaxy Tab S9 FE 10.9\" Wi-Fi Tablet, 128GB, Android, Lavender                                                            8\n",
       "Samsung Galaxy Tab A9+ 11” Tablet, 64GB, Android, Navy                                                                           8\n",
       "ASUS Chromebook CM30 10.5 inch WUXGA Touch 2-in-1 Tablet MediaTek Kompanio 520 8GB RAM 128GB eMMC Stylus Included Fog Silver     8\n",
       "Bose QuietComfort Headphones, Bluetooth Over Ear Noise Cancelling Headphones, Black                                              8\n",
       "HP 14 inch x360 FHD Touch Chromebook Laptop Intel Processor N100 4GB RAM 64GB eMMC Sky Blue                                      8\n",
       "Total Wireless Samsung Galaxy A25, 5G, 128gb, BLACK - Prepaid Smartphone [Locked to Total Wireless]                              8\n",
       "Total Wireless Motorola moto g 5G 2024, 64GB Gray - Prepaid Smartphone [Locked to Total Wireless]                                8\n",
       "Total Wireless HMD Vibe, 64GB, CDMA LTE, Black - Prepaid Smartphone [Locked to Total Wireless]                                   8\n",
       "Total Wireless Samsung Galaxy A15, 64GB, 5G, Black - Prepaid Smartphone [Locked to Total Wireless]                               8\n",
       "PIXMA TS7722 Wireless Home All-in-One Printer                                                                                    7\n",
       "Canon PIXMA TR4722 All-in-One Wireless InkJet Printer with ADF, Mobile Print and Fax                                             7\n",
       "Canon MegaTank PIXMA G3272 Color Inkjet All in One Printer                                                                       7\n",
       "Canon PIXMA TR8622a Wireless Home Office All-In-One Printer                                                                      7\n",
       "SAMSUNG 85” Class DU7200B Crystal UHD 4K Smart TV UN85DU7200BXZA 2024                                                            7\n",
       "SAMSUNG 65” Class DU6900 Crystal UHD 4K Smart TV UN65DU6900FXZA                                                                  7\n",
       "Canon EF 50mm f/1.8 Fixed Focal Length Lens                                                                                      1\n",
       "Name: count, dtype: int64"
      ]
     },
     "execution_count": 6,
     "metadata": {},
     "output_type": "execute_result"
    }
   ],
   "source": [
    "df['product_name'].value_counts()"
   ]
  },
  {
   "cell_type": "code",
   "execution_count": null,
   "metadata": {},
   "outputs": [],
   "source": []
  }
 ],
 "metadata": {
  "kernelspec": {
   "display_name": "Python 3",
   "language": "python",
   "name": "python3"
  },
  "language_info": {
   "codemirror_mode": {
    "name": "ipython",
    "version": 3
   },
   "file_extension": ".py",
   "mimetype": "text/x-python",
   "name": "python",
   "nbconvert_exporter": "python",
   "pygments_lexer": "ipython3",
   "version": "3.12.3"
  }
 },
 "nbformat": 4,
 "nbformat_minor": 2
}
